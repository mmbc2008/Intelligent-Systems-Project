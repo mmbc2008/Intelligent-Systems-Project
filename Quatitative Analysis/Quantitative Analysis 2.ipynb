{
 "cells": [
  {
   "cell_type": "code",
   "execution_count": 20,
   "metadata": {
    "collapsed": true,
    "pycharm": {
     "name": "#%%\n"
    }
   },
   "outputs": [
    {
     "name": "stdout",
     "output_type": "stream",
     "text": [
      "Kendall Rank correlation: -0.745455\n",
      "p-value: 0.000760\n",
      "The null hypothesis is rejected\n"
     ]
    }
   ],
   "source": [
    "# This module is used to get the data from excel\n",
    "import pandas as pd\n",
    "\n",
    "\n",
    "from scipy.stats import kendalltau\n",
    "\n",
    "\n",
    "#reading data\n",
    "data = pd.read_excel('Data Analysis 2.xlsx')\n",
    "\n",
    "x = data['bad data percentage'].head(11)\n",
    "y = data['ratio'].head(11)\n",
    "corr,p= kendalltau(x,y)\n",
    "\n",
    "print('Kendall Rank correlation: %f' % corr)\n",
    "print('p-value: %f' % p)\n",
    "\n",
    "limit = 0.05\n",
    "\n",
    "if p > limit:\n",
    "    print(\"The null hypothesis is accepted\")\n",
    "else:\n",
    "    print(\"The null hypothesis is rejected\")"
   ]
  }
 ],
 "metadata": {
  "kernelspec": {
   "display_name": "Python 3",
   "language": "python",
   "name": "python3"
  },
  "language_info": {
   "codemirror_mode": {
    "name": "ipython",
    "version": 2
   },
   "file_extension": ".py",
   "mimetype": "text/x-python",
   "name": "python",
   "nbconvert_exporter": "python",
   "pygments_lexer": "ipython2",
   "version": "2.7.6"
  }
 },
 "nbformat": 4,
 "nbformat_minor": 0
}